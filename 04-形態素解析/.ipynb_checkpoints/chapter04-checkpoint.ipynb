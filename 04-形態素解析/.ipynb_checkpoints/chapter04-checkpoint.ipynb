{
 "cells": [
  {
   "cell_type": "markdown",
   "metadata": {},
   "source": [
    "### Preparation"
   ]
  },
  {
   "cell_type": "code",
   "execution_count": 1,
   "metadata": {},
   "outputs": [],
   "source": [
    "import sys, os\n",
    "import re\n",
    "import MeCab\n",
    "import numpy as np\n",
    "import matplotlib.pyplot as plt\n",
    "from collections import Counter"
   ]
  },
  {
   "cell_type": "markdown",
   "metadata": {},
   "source": [
    "### 30. 形態素解析結果の読み込み"
   ]
  },
  {
   "cell_type": "code",
   "execution_count": 2,
   "metadata": {},
   "outputs": [
    {
     "name": "stdout",
     "output_type": "stream",
     "text": [
      "{'surface': '一', 'base': '一', 'pos': '名詞', 'pos1': '数'}\n",
      "{'surface': '\\u3000', 'base': '\\u3000', 'pos': '記号', 'pos1': '空白'}\n",
      "{'surface': '吾輩', 'base': '吾輩', 'pos': '名詞', 'pos1': '代名詞'}\n",
      "{'surface': 'は', 'base': 'は', 'pos': '助詞', 'pos1': '係助詞'}\n",
      "{'surface': '猫', 'base': '猫', 'pos': '名詞', 'pos1': '一般'}\n",
      "{'surface': 'で', 'base': 'だ', 'pos': '助動詞', 'pos1': '*'}\n",
      "{'surface': 'ある', 'base': 'ある', 'pos': '助動詞', 'pos1': '*'}\n",
      "length: 204147\n"
     ]
    }
   ],
   "source": [
    "i = 0\n",
    "result = []\n",
    "neko = open('data/neko.txt.mecab')\n",
    "for line in neko:\n",
    "    m = re.search(r'(?P<surface>.*?)\\t(?P<pos>[^,]*),(?P<pos1>[^,]*),[^,]*,[^,]*,[^,]*,[^,]*,(?P<base>[^,]*),.*', line)\n",
    "    i +=1\n",
    "    if m:\n",
    "        m_dict = {'surface':m.group('surface'), 'base':m.group('base'), 'pos':m.group('pos'), 'pos1':m.group('pos1')}\n",
    "        result.append(m_dict)\n",
    "        if i < 10:\n",
    "            print(m_dict)\n",
    "print('length: {}'.format(len(result)))"
   ]
  },
  {
   "cell_type": "markdown",
   "metadata": {},
   "source": [
    "### 31. 動詞"
   ]
  },
  {
   "cell_type": "code",
   "execution_count": 37,
   "metadata": {},
   "outputs": [
    {
     "name": "stdout",
     "output_type": "stream",
     "text": [
      "3893\n",
      "['承る', '上げよ', 'ならべ', '消し', '嘆ぜ', 'あつかっ', '通り', '祝し', '抛り出す', '出直し']\n"
     ]
    }
   ],
   "source": [
    "verb = set([morpheme['surface'] for morpheme in result if morpheme['pos']=='動詞'])\n",
    "print(len(verb))\n",
    "print(list(verb)[:10])"
   ]
  },
  {
   "cell_type": "markdown",
   "metadata": {},
   "source": [
    "### 32. 動詞の原形"
   ]
  },
  {
   "cell_type": "code",
   "execution_count": 35,
   "metadata": {},
   "outputs": [
    {
     "name": "stdout",
     "output_type": "stream",
     "text": [
      "2300\n",
      "['承る', 'あきれ返る', '試す', '潜り込む', '抛り出す', '劃する', '察す', 'あきれる', '心づく', '片付ける']\n"
     ]
    }
   ],
   "source": [
    "infinitive = set([morpheme['base'] for morpheme in result if morpheme['pos']=='動詞'])\n",
    "print(len(infinitive))\n",
    "print(list(infinitive)[:10])"
   ]
  },
  {
   "cell_type": "markdown",
   "metadata": {},
   "source": [
    "### 33. サ変名詞"
   ]
  },
  {
   "cell_type": "code",
   "execution_count": 33,
   "metadata": {},
   "outputs": [
    {
     "name": "stdout",
     "output_type": "stream",
     "text": [
      "1271\n",
      "['看破', '哀願', '諒察', '解釈', '自炊', '鼎坐', '混同', '暴露', '恐悦', 'きが']\n"
     ]
    }
   ],
   "source": [
    "sahen_noun = set([morpheme['base'] for morpheme in result if morpheme['pos']=='名詞'\\\n",
    "                  and morpheme['pos1']=='サ変接続'])\n",
    "print(len(sahen_noun))\n",
    "print(list(sahen_noun)[:10])"
   ]
  },
  {
   "cell_type": "markdown",
   "metadata": {},
   "source": [
    "### 34. 「AのB」"
   ]
  },
  {
   "cell_type": "code",
   "execution_count": 31,
   "metadata": {},
   "outputs": [
    {
     "name": "stdout",
     "output_type": "stream",
     "text": [
      "4777\n",
      "['舌の料理', 'コメディーの神様', '本社の方', '間の交際', '葉蘭の影', '細工の巻煙草', '大抵の場合', '運動のうち', '立ての四つ', '宴会の席']\n"
     ]
    }
   ],
   "source": [
    "A_no_B = set(['{}の{}'.format(result[i]['surface'], result[i+2]['surface']) for i in np.arange(len(result)-2) \\\n",
    "             if result[i]['pos']=='名詞' and result[i+1]['surface']=='の' and result[i+2]['pos']=='名詞'])\n",
    "print(len(A_no_B))\n",
    "print(list(A_no_B)[:10])"
   ]
  },
  {
   "cell_type": "markdown",
   "metadata": {},
   "source": [
    "### 35. 名詞の連結"
   ]
  },
  {
   "cell_type": "code",
   "execution_count": 7,
   "metadata": {},
   "outputs": [
    {
     "name": "stdout",
     "output_type": "stream",
     "text": [
      "猫誉信女南無阿弥陀仏南無阿弥陀仏\n"
     ]
    }
   ],
   "source": [
    "longest_noun = ''\n",
    "tmp = ''\n",
    "for morpheme in result:\n",
    "    if morpheme['pos'] == '名詞':\n",
    "        tmp += morpheme['surface']\n",
    "    else:\n",
    "        if len(tmp) > len(longest_noun):\n",
    "            longest_noun = tmp\n",
    "        tmp = ''\n",
    "print(longest_noun)"
   ]
  },
  {
   "cell_type": "markdown",
   "metadata": {},
   "source": [
    "### 36. 単語の出現頻度"
   ]
  },
  {
   "cell_type": "code",
   "execution_count": 41,
   "metadata": {},
   "outputs": [
    {
     "data": {
      "text/plain": [
       "[('の', 9194),\n",
       " ('。', 7486),\n",
       " ('て', 6868),\n",
       " ('、', 6772),\n",
       " ('は', 6420),\n",
       " ('に', 6243),\n",
       " ('を', 6071),\n",
       " ('と', 5508),\n",
       " ('が', 5337),\n",
       " ('た', 3988)]"
      ]
     },
     "execution_count": 41,
     "metadata": {},
     "output_type": "execute_result"
    }
   ],
   "source": [
    "words = [monopheme['surface'] for monopheme in result]\n",
    "frequency = sorted(dict(Counter(words)).items(), key=lambda x: x[1])[::-1]\n",
    "frequency[:10]"
   ]
  },
  {
   "cell_type": "markdown",
   "metadata": {},
   "source": [
    "### 37. 頻度上位10語"
   ]
  },
  {
   "cell_type": "code",
   "execution_count": 46,
   "metadata": {},
   "outputs": [
    {
     "data": {
      "image/png": "[encoded data removed]",
      "text/plain": [
       "<Figure size 432x288 with 1 Axes>"
      ]
     },
     "metadata": {
      "needs_background": "light"
     },
     "output_type": "display_data"
    }
   ],
   "source": [
    "%matplotlib inline\n",
    "label, height = [word[0] for word in frequency[:10]], [word[1] for word in frequency[:10]]\n",
    "plt.bar(label, height)\n",
    "plt.title('出現頻度上位10語')\n",
    "plt.xlabel('単語')\n",
    "plt.ylabel('出現回数')\n",
    "plt.show()"
   ]
  },
  {
   "cell_type": "markdown",
   "metadata": {},
   "source": [
    "### 38. ヒストグラム"
   ]
  },
  {
   "cell_type": "code",
   "execution_count": 62,
   "metadata": {},
   "outputs": [
    {
     "data": {
      "image/png": "[encoded data removed]",
      "text/plain": [
       "<Figure size 432x288 with 1 Axes>"
      ]
     },
     "metadata": {
      "needs_background": "light"
     },
     "output_type": "display_data"
    }
   ],
   "source": [
    "%matplotlib inline\n",
    "plt.hist([morpheme[1] for morpheme in frequency]) #, bins=np.logspace(0, 4.5, 20))\n",
    "plt.title('単語の出現頻度')\n",
    "#plt.xscale('log')\n",
    "plt.xlabel('出現頻度')\n",
    "plt.yscale('log')\n",
    "plt.ylabel('出現頻度順位')\n",
    "\n",
    "plt.show()"
   ]
  },
  {
   "cell_type": "markdown",
   "metadata": {},
   "source": [
    "### 39. Zipfの法則"
   ]
  },
  {
   "cell_type": "code",
   "execution_count": 69,
   "metadata": {},
   "outputs": [
    {
     "data": {
      "image/png": "[encoded data removed]",
      "text/plain": [
       "<Figure size 504x288 with 1 Axes>"
      ]
     },
     "metadata": {
      "needs_background": "light"
     },
     "output_type": "display_data"
    }
   ],
   "source": [
    "%matplotlib inline\n",
    "plt.figure(figsize=(7, 4))\n",
    "plt.scatter(np.arange(1, len(frequency)+1), [freq[1] for freq in frequency])\n",
    "plt.xscale('log')\n",
    "plt.xlabel('出現頻度順位')\n",
    "plt.yscale('log')\n",
    "plt.ylabel('出現頻度')\n",
    "plt.show()"
   ]
  },
  {
   "cell_type": "code",
   "execution_count": null,
   "metadata": {},
   "outputs": [],
   "source": []
  }
 ],
 "metadata": {
  "kernelspec": {
   "display_name": "Python 3",
   "language": "python",
   "name": "python3"
  },
  "language_info": {
   "codemirror_mode": {
    "name": "ipython",
    "version": 3
   },
   "file_extension": ".py",
   "mimetype": "text/x-python",
   "name": "python",
   "nbconvert_exporter": "python",
   "pygments_lexer": "ipython3",
   "version": "3.6.7"
  }
 },
 "nbformat": 4,
 "nbformat_minor": 2
}
