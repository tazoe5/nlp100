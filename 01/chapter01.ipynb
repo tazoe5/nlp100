{
 "cells": [
  {
   "cell_type": "markdown",
   "metadata": {},
   "source": [
    "### 00. 文字列の逆順"
   ]
  },
  {
   "cell_type": "code",
   "execution_count": 1,
   "metadata": {},
   "outputs": [
    {
     "name": "stdout",
     "output_type": "stream",
     "text": [
      "desserts\n"
     ]
    }
   ],
   "source": [
    "s = 'stressed'\n",
    "s_rev = s[::-1]\n",
    "print(s_rev)"
   ]
  },
  {
   "cell_type": "markdown",
   "metadata": {},
   "source": [
    "### 01. 「パタトクカシーー」"
   ]
  },
  {
   "cell_type": "code",
   "execution_count": 2,
   "metadata": {},
   "outputs": [
    {
     "name": "stdout",
     "output_type": "stream",
     "text": [
      "タクシー\n"
     ]
    }
   ],
   "source": [
    "s = 'パタトクカシーー'\n",
    "s1 = s[1::2]\n",
    "print(s1)"
   ]
  },
  {
   "cell_type": "markdown",
   "metadata": {},
   "source": [
    "### 02. 「パトカー」＋「タクシー」＝「パタトクカシーー」"
   ]
  },
  {
   "cell_type": "code",
   "execution_count": 3,
   "metadata": {},
   "outputs": [
    {
     "name": "stdout",
     "output_type": "stream",
     "text": [
      "パタトクカシーー\n"
     ]
    }
   ],
   "source": [
    "s1 = 'パトカー'\n",
    "s2 = 'タクシー'\n",
    "#s = ''\n",
    "#for i, j in zip(s1, s2):\n",
    "#    s += i + j\n",
    "#print(*[p for p in zip(s1, s2)])\n",
    "s = ''.join(map(lambda p:p[0]+p[1], [p for p in zip(s1, s2)]))\n",
    "print(s)"
   ]
  },
  {
   "cell_type": "markdown",
   "metadata": {},
   "source": [
    "### 03. 円周率"
   ]
  },
  {
   "cell_type": "code",
   "execution_count": 4,
   "metadata": {},
   "outputs": [
    {
     "name": "stdout",
     "output_type": "stream",
     "text": [
      "[3, 1, 4, 1, 5, 9, 2, 6, 5, 3, 5, 8, 9, 7, 9]\n"
     ]
    }
   ],
   "source": [
    "sentence = \"Now I need a drink, alcoholic of course, after the heavy lectures involving quantum mechanics.\"\n",
    "words = sentence.replace(',', '').replace('.', '').split()\n",
    "length = [len(word) for word in words]\n",
    "print(length)"
   ]
  },
  {
   "cell_type": "markdown",
   "metadata": {},
   "source": [
    "### 04. 元素記号"
   ]
  },
  {
   "cell_type": "code",
   "execution_count": 5,
   "metadata": {},
   "outputs": [
    {
     "name": "stdout",
     "output_type": "stream",
     "text": [
      "{0: 'H', 1: 'He', 2: 'Li', 3: 'Be', 4: 'B', 5: 'C', 6: 'N', 7: 'O', 8: 'F', 9: 'Ne', 10: 'Na', 11: 'Mi', 12: 'Al', 13: 'Si', 14: 'P', 15: 'S', 16: 'Cl', 17: 'Ar', 18: 'K', 19: 'Ca'}\n"
     ]
    }
   ],
   "source": [
    "sentence = \"Hi He Lied Because Boron Could Not Oxidize Fluorine. New Nations Might Also Sign Peace Security Clause. Arthur King Can.\"\n",
    "words = sentence.replace(',', '').replace('.', '').split()\n",
    "indexes = [1, 5, 6, 7, 8, 9, 15, 16, 19]\n",
    "atoms = [s[0] if i+1 in indexes else s[:2] for (i, s) in enumerate(words)]\n",
    "atoms_dict = dict(zip(range(len(atoms)), atoms))\n",
    "print(atoms_dict)"
   ]
  },
  {
   "cell_type": "markdown",
   "metadata": {},
   "source": [
    "### 05. n-gram"
   ]
  },
  {
   "cell_type": "code",
   "execution_count": 6,
   "metadata": {},
   "outputs": [
    {
     "name": "stdout",
     "output_type": "stream",
     "text": [
      "['I ', ' a', 'am', 'm ', ' a', 'an', 'n ', ' N', 'NL', 'LP', 'Pe', 'er']\n",
      "単語bi-gram: ['I', 'am'] ['am', 'an'] ['an', 'NLPer']\n",
      "文字bi-gram: [] ['am'] ['an'] ['NL', 'LP', 'Pe', 'er']\n"
     ]
    }
   ],
   "source": [
    "def n_gram(sequence: str or list, n: int):\n",
    "    return [sequence[i:i+n] for i in range(len(sequence) - n + 1)]\n",
    "sequence = \"I am an NLPer\"\n",
    "print(n_gram(sequence, 2))\n",
    "print('単語bi-gram:', *n_gram(sequence.split(), 2))\n",
    "print('文字bi-gram:', *[n_gram(word, 2) for word in sequence.split()])"
   ]
  },
  {
   "cell_type": "markdown",
   "metadata": {},
   "source": [
    "### 06. 集合"
   ]
  },
  {
   "cell_type": "code",
   "execution_count": 7,
   "metadata": {},
   "outputs": [
    {
     "name": "stdout",
     "output_type": "stream",
     "text": [
      "Union       : {'ad', 'di', 'ar', 'pa', 'ag', 'is', 'se', 'gr', 'ra', 'ap', 'ph'}\n",
      "Difference  : {'ad', 'is', 'di', 'se'}\n",
      "Intersection: {'ra', 'pa', 'ap', 'ar'}\n",
      "Is \"se\" in X? : True\n",
      "Is \"se\" in Y? : False\n"
     ]
    }
   ],
   "source": [
    "def n_charactor_gram(sequence: str or list, n: int):\n",
    "    return [n_gram(word, 2) for word in sequence.split()]\n",
    "s1, s2 = \"paraparaparadise\", \"paragraph\"\n",
    "X = set(*n_charactor_gram(s1, 2))\n",
    "Y = set(*n_charactor_gram(s2, 2))\n",
    "union_set = X | Y\n",
    "difference_set = X - Y \n",
    "intersection_set = X & Y\n",
    "print('Union       : {}'.format(union_set))\n",
    "print('Difference  : {}'.format(difference_set))\n",
    "print('Intersection: {}'.format(intersection_set))\n",
    "print('Is \"se\" in X? : {}'.format('se' in X))\n",
    "print('Is \"se\" in Y? : {}'.format('se' in Y))"
   ]
  },
  {
   "cell_type": "markdown",
   "metadata": {},
   "source": [
    "### 08. 暗号文"
   ]
  },
  {
   "cell_type": "code",
   "execution_count": 8,
   "metadata": {},
   "outputs": [
    {
     "name": "stdout",
     "output_type": "stream",
     "text": [
      "12時の気温は22.4\n"
     ]
    }
   ],
   "source": [
    "def gen_template(x, y, z):\n",
    "    return '{}時の{}は{}'.format(x, y, z)\n",
    "x, y, z = 12, \"気温\", 22.4\n",
    "print(gen_template(x, y, z))"
   ]
  },
  {
   "cell_type": "markdown",
   "metadata": {},
   "source": [
    "### 09. Typoglycemia"
   ]
  },
  {
   "cell_type": "code",
   "execution_count": 9,
   "metadata": {},
   "outputs": [
    {
     "name": "stdout",
     "output_type": "stream",
     "text": [
      "I clod'unt beveile that I cuold altcluay uendrantsd what I was riaedng : the paonenhmel peowr of the haumn mind .\n"
     ]
    }
   ],
   "source": [
    "import random\n",
    "sentence = \"I couldn't believe that I could actually understand what I was reading : the phenomenal power of the human mind .\"\n",
    "def typoglycemia(sentence: str):\n",
    "    words = sentence.split(' ')\n",
    "    return ' '.join([w[0]+''.join(random.sample(w[1:-1], len(w)-2))+w[-1] if len(w)>4 else w for w in words])\n",
    "\n",
    "print(typoglycemia(sentence))"
   ]
  }
 ],
 "metadata": {
  "kernelspec": {
   "display_name": "Python 3",
   "language": "python",
   "name": "python3"
  },
  "language_info": {
   "codemirror_mode": {
    "name": "ipython",
    "version": 3
   },
   "file_extension": ".py",
   "mimetype": "text/x-python",
   "name": "python",
   "nbconvert_exporter": "python",
   "pygments_lexer": "ipython3",
   "version": "3.6.1"
  }
 },
 "nbformat": 4,
 "nbformat_minor": 2
}
